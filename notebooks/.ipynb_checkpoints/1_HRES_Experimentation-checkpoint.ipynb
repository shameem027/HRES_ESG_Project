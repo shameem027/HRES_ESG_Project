{
 "cells": [
  {
   "cell_type": "code",
   "execution_count": null,
   "id": "initial_id",
   "metadata": {
    "collapsed": true
   },
   "outputs": [],
   "source": [
    "import pandas as pd\n",
    "import mlflow\n",
    "import sys\n",
    "\n",
    "# Add the src directory to the Python path to import our model\n",
    "sys.path.append('../src')\n",
    "from MCDA_model import find_best_hres\n",
    "\n",
    "# Load the comprehensive dataset\n",
    "DATA_PATH = \"../src/hres_configurations_comprehensive.csv\"\n",
    "hres_df = pd.read_csv(DATA_PATH)\n",
    "\n",
    "# Set up the MLflow experiment\n",
    "EXPERIMENT_NAME = \"HRES_Decision_Scenarios\"\n",
    "mlflow.set_experiment(EXPERIMENT_NAME)\n",
    "\n",
    "print(f\"Dataset loaded with {len(hres_df)} rows.\")\n",
    "print(f\"MLflow experiment '{EXPERIMENT_NAME}' is ready.\")"
   ]
  },
  {
   "metadata": {},
   "cell_type": "code",
   "outputs": [],
   "execution_count": null,
   "source": [
    "# Define a list of different user scenarios to test\n",
    "scenarios = {\n",
    "    \"University_High_ESG\": {\n",
    "        \"scenario_name\": \"Medium_University\",\n",
    "        \"user_grid_dependency_pct\": 15, # Ambitious goal\n",
    "        \"esg_weights\": {\"environmental\": 0.5, \"social\": 0.4, \"governance\": 0.1, \"cost\": 0.0}\n",
    "    },\n",
    "    \"Office_Cost_Focused\": {\n",
    "        \"scenario_name\": \"Small_Office\",\n",
    "        \"user_grid_dependency_pct\": 30,\n",
    "        \"esg_weights\": {\"environmental\": 0.1, \"social\": 0.1, \"governance\": 0.0, \"cost\": 0.8}\n",
    "    },\n",
    "    \"Data_Center_Resilience\": {\n",
    "        \"scenario_name\": \"Large_Data_Center\",\n",
    "        \"user_grid_dependency_pct\": 5, # Must be self-sufficient\n",
    "        \"esg_weights\": {\"environmental\": 0.3, \"social\": 0.4, \"governance\": 0.1, \"cost\": 0.2}\n",
    "    }\n",
    "}\n",
    "\n",
    "# Loop through each scenario and log it as an MLflow run\n",
    "for run_name, params in scenarios.items():\n",
    "    with mlflow.start_run(run_name=run_name):\n",
    "        print(f\"\\n--- Running scenario: {run_name} ---\")\n",
    "\n",
    "        # Log parameters\n",
    "        mlflow.log_params(params)\n",
    "\n",
    "        # Execute the model\n",
    "        best_solution, status = find_best_hres(\n",
    "            configurations_df=hres_df,\n",
    "            scenario_name=params[\"scenario_name\"],\n",
    "            user_grid_dependency_pct=params[\"user_grid_dependency_pct\"],\n",
    "            esg_weights=params[\"esg_weights\"]\n",
    "        )\n",
    "\n",
    "        mlflow.set_tag(\"status\", status)\n",
    "\n",
    "        # Log the results as metrics\n",
    "        if best_solution is not None:\n",
    "            print(f\"Best solution found: Cost=${best_solution['total_cost']}, Sufficiency={best_solution['self_sufficiency_pct']}%\")\n",
    "            # Log key results as metrics for easy comparison\n",
    "            results_to_log = {\n",
    "                \"rec_total_cost\": best_solution[\"total_cost\"],\n",
    "                \"rec_self_sufficiency_pct\": best_solution[\"self_sufficiency_pct\"],\n",
    "                \"rec_solar_kw\": best_solution[\"solar_panel_kw\"],\n",
    "                \"rec_wind_turbines\": best_solution[\"wind_turbines_count\"],\n",
    "                \"rec_battery_kwh\": best_solution[\"battery_kwh\"]\n",
    "            }\n",
    "            mlflow.log_metrics(results_to_log)\n",
    "        else:\n",
    "            print(\"No solution found for this scenario.\")\n",
    "\n",
    "print(\"\\nAll scenarios have been run and logged to MLflow.\")"
   ],
   "id": "8ae58e4b62582112"
  }
 ],
 "metadata": {
  "kernelspec": {
   "display_name": "Python 3",
   "language": "python",
   "name": "python3"
  },
  "language_info": {
   "codemirror_mode": {
    "name": "ipython",
    "version": 2
   },
   "file_extension": ".py",
   "mimetype": "text/x-python",
   "name": "python",
   "nbconvert_exporter": "python",
   "pygments_lexer": "ipython2",
   "version": "2.7.6"
  }
 },
 "nbformat": 4,
 "nbformat_minor": 5
}
